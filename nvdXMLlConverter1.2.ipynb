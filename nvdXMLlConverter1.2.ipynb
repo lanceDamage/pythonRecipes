{
 "cells": [
  {
   "cell_type": "code",
   "execution_count": 1,
   "metadata": {
    "collapsed": true
   },
   "outputs": [],
   "source": [
    "#Some sources I'm trying to follow\n",
    "#https://www.youtube.com/watch?v=OdQ7xdXxeUA\n",
    "#http://blog.appliedinformaticsinc.com/how-to-parse-and-convert-xml-to-csv-using-python/\n",
    "\n",
    "#Step1: import lib\n",
    "\n",
    "import csv\n",
    "import xml.etree.cElementTree as ET"
   ]
  },
  {
   "cell_type": "code",
   "execution_count": 3,
   "metadata": {
    "collapsed": true
   },
   "outputs": [],
   "source": [
    "#Step 2: Parse xml document and Get Root\n",
    "tree = ET.parse('nvdcve-2.0-2018.xml')\n",
    "root = tree.getroot()"
   ]
  },
  {
   "cell_type": "code",
   "execution_count": 5,
   "metadata": {
    "collapsed": true
   },
   "outputs": [],
   "source": [
    "#Step 3: Create and open csv file\n",
    "xml_data_to_csv = open('Out1.csv','w')"
   ]
  },
  {
   "cell_type": "code",
   "execution_count": 6,
   "metadata": {
    "collapsed": true
   },
   "outputs": [],
   "source": [
    "#Step 4: Create a list for the column headers\n",
    "list_head=[]"
   ]
  },
  {
   "cell_type": "code",
   "execution_count": 7,
   "metadata": {
    "collapsed": true
   },
   "outputs": [],
   "source": [
    "#Step 5: Create variable to write to csv\n",
    "Csv_writer=csv.writer(xml_data_to_csv)"
   ]
  },
  {
   "cell_type": "code",
   "execution_count": 8,
   "metadata": {
    "collapsed": true
   },
   "outputs": [],
   "source": [
    "#Step 6: Loop for each node\n",
    "count=0\n",
    "for element in root.findall('entry'):\n",
    "    List_nodes=[]\n",
    "    \n",
    "    #Get head by tag\n",
    "    if count == 0:\n",
    "        av = element.findall('.//cvss:access-vector').tag\n",
    "        list_head.append(av)\n",
    "        \n",
    "        count=+1\n",
    "    \n",
    "    #Write List_nodes to csv\n",
    "    Csv_writer.writerow(List_nodes)\n",
    "    \n",
    "#Close csv file\n",
    "xml_data_to_csv.close()"
   ]
  },
  {
   "cell_type": "code",
   "execution_count": null,
   "metadata": {
    "collapsed": true
   },
   "outputs": [],
   "source": []
  }
 ],
 "metadata": {
  "kernelspec": {
   "display_name": "Python 3",
   "language": "python",
   "name": "python3"
  },
  "language_info": {
   "codemirror_mode": {
    "name": "ipython",
    "version": 3
   },
   "file_extension": ".py",
   "mimetype": "text/x-python",
   "name": "python",
   "nbconvert_exporter": "python",
   "pygments_lexer": "ipython3",
   "version": "3.6.3"
  }
 },
 "nbformat": 4,
 "nbformat_minor": 2
}
