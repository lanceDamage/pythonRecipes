{
 "cells": [
  {
   "cell_type": "code",
   "execution_count": 5,
   "metadata": {},
   "outputs": [],
   "source": [
    "#In this py3 recipe, I'll import some simple data from local location\n",
    "#first, I'll import some important tools\n",
    "import csv\n",
    "import pandas as pd"
   ]
  },
  {
   "cell_type": "code",
   "execution_count": 8,
   "metadata": {},
   "outputs": [],
   "source": [
    "dataDF = pd.read_csv(\"p1test.txt\")"
   ]
  },
  {
   "cell_type": "code",
   "execution_count": 9,
   "metadata": {},
   "outputs": [
    {
     "data": {
      "text/html": [
       "<div>\n",
       "<style scoped>\n",
       "    .dataframe tbody tr th:only-of-type {\n",
       "        vertical-align: middle;\n",
       "    }\n",
       "\n",
       "    .dataframe tbody tr th {\n",
       "        vertical-align: top;\n",
       "    }\n",
       "\n",
       "    .dataframe thead th {\n",
       "        text-align: right;\n",
       "    }\n",
       "</style>\n",
       "<table border=\"1\" class=\"dataframe\">\n",
       "  <thead>\n",
       "    <tr style=\"text-align: right;\">\n",
       "      <th></th>\n",
       "      <th>domain</th>\n",
       "      <th>count of control families</th>\n",
       "      <th>count of tools</th>\n",
       "      <th>avgInhRiskScore</th>\n",
       "    </tr>\n",
       "  </thead>\n",
       "  <tbody>\n",
       "    <tr>\n",
       "      <th>0</th>\n",
       "      <td>Access Management</td>\n",
       "      <td>5</td>\n",
       "      <td>2</td>\n",
       "      <td>17.533333</td>\n",
       "    </tr>\n",
       "    <tr>\n",
       "      <th>1</th>\n",
       "      <td>Access Provisioning</td>\n",
       "      <td>2</td>\n",
       "      <td>2</td>\n",
       "      <td>16.833333</td>\n",
       "    </tr>\n",
       "    <tr>\n",
       "      <th>2</th>\n",
       "      <td>Adversary Hunt Service</td>\n",
       "      <td>1</td>\n",
       "      <td>0</td>\n",
       "      <td>6.000000</td>\n",
       "    </tr>\n",
       "    <tr>\n",
       "      <th>3</th>\n",
       "      <td>Application Information Security</td>\n",
       "      <td>2</td>\n",
       "      <td>3</td>\n",
       "      <td>18.333333</td>\n",
       "    </tr>\n",
       "    <tr>\n",
       "      <th>4</th>\n",
       "      <td>Application Security Service</td>\n",
       "      <td>1</td>\n",
       "      <td>0</td>\n",
       "      <td>11.000000</td>\n",
       "    </tr>\n",
       "  </tbody>\n",
       "</table>\n",
       "</div>"
      ],
      "text/plain": [
       "                             domain  count of control families  \\\n",
       "0                 Access Management                          5   \n",
       "1               Access Provisioning                          2   \n",
       "2            Adversary Hunt Service                          1   \n",
       "3  Application Information Security                          2   \n",
       "4      Application Security Service                          1   \n",
       "\n",
       "   count of tools  avgInhRiskScore  \n",
       "0               2        17.533333  \n",
       "1               2        16.833333  \n",
       "2               0         6.000000  \n",
       "3               3        18.333333  \n",
       "4               0        11.000000  "
      ]
     },
     "execution_count": 9,
     "metadata": {},
     "output_type": "execute_result"
    }
   ],
   "source": [
    "dataDF.head()"
   ]
  },
  {
   "cell_type": "code",
   "execution_count": 11,
   "metadata": {},
   "outputs": [
    {
     "data": {
      "text/html": [
       "<div>\n",
       "<style scoped>\n",
       "    .dataframe tbody tr th:only-of-type {\n",
       "        vertical-align: middle;\n",
       "    }\n",
       "\n",
       "    .dataframe tbody tr th {\n",
       "        vertical-align: top;\n",
       "    }\n",
       "\n",
       "    .dataframe thead th {\n",
       "        text-align: right;\n",
       "    }\n",
       "</style>\n",
       "<table border=\"1\" class=\"dataframe\">\n",
       "  <thead>\n",
       "    <tr style=\"text-align: right;\">\n",
       "      <th></th>\n",
       "      <th>count of control families</th>\n",
       "      <th>count of tools</th>\n",
       "      <th>avgInhRiskScore</th>\n",
       "    </tr>\n",
       "  </thead>\n",
       "  <tbody>\n",
       "    <tr>\n",
       "      <th>count of control families</th>\n",
       "      <td>1.000000</td>\n",
       "      <td>0.302432</td>\n",
       "      <td>0.091065</td>\n",
       "    </tr>\n",
       "    <tr>\n",
       "      <th>count of tools</th>\n",
       "      <td>0.302432</td>\n",
       "      <td>1.000000</td>\n",
       "      <td>0.192230</td>\n",
       "    </tr>\n",
       "    <tr>\n",
       "      <th>avgInhRiskScore</th>\n",
       "      <td>0.091065</td>\n",
       "      <td>0.192230</td>\n",
       "      <td>1.000000</td>\n",
       "    </tr>\n",
       "  </tbody>\n",
       "</table>\n",
       "</div>"
      ],
      "text/plain": [
       "                           count of control families  count of tools  \\\n",
       "count of control families                   1.000000        0.302432   \n",
       "count of tools                              0.302432        1.000000   \n",
       "avgInhRiskScore                             0.091065        0.192230   \n",
       "\n",
       "                           avgInhRiskScore  \n",
       "count of control families         0.091065  \n",
       "count of tools                    0.192230  \n",
       "avgInhRiskScore                   1.000000  "
      ]
     },
     "execution_count": 11,
     "metadata": {},
     "output_type": "execute_result"
    }
   ],
   "source": [
    "dataDF.corr(method='pearson')"
   ]
  },
  {
   "cell_type": "code",
   "execution_count": null,
   "metadata": {},
   "outputs": [],
   "source": []
  }
 ],
 "metadata": {
  "kernelspec": {
   "display_name": "Python 2",
   "language": "python",
   "name": "python2"
  },
  "language_info": {
   "codemirror_mode": {
    "name": "ipython",
    "version": 2
   },
   "file_extension": ".py",
   "mimetype": "text/x-python",
   "name": "python",
   "nbconvert_exporter": "python",
   "pygments_lexer": "ipython2",
   "version": "2.7.16"
  }
 },
 "nbformat": 4,
 "nbformat_minor": 2
}
